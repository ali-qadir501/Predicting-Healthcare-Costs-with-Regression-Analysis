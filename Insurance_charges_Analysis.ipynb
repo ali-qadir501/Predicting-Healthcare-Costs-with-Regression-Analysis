{
  "nbformat": 4,
  "nbformat_minor": 0,
  "metadata": {
    "colab": {
      "provenance": [],
      "authorship_tag": "ABX9TyNBpky1ovlOsvAFK5dDs/vz",
      "include_colab_link": true
    },
    "kernelspec": {
      "name": "python3",
      "display_name": "Python 3"
    },
    "language_info": {
      "name": "python"
    }
  },
  "cells": [
    {
      "cell_type": "markdown",
      "metadata": {
        "id": "view-in-github",
        "colab_type": "text"
      },
      "source": [
        "<a href=\"https://colab.research.google.com/github/ali-qadir501/Predicting-Healthcare-Costs-with-Regression-Analysis/blob/main/Insurance_charges_Analysis.ipynb\" target=\"_parent\"><img src=\"https://colab.research.google.com/assets/colab-badge.svg\" alt=\"Open In Colab\"/></a>"
      ]
    },
    {
      "cell_type": "code",
      "execution_count": null,
      "metadata": {
        "colab": {
          "base_uri": "https://localhost:8080/",
          "height": 206
        },
        "id": "VzCuatVPg4dh",
        "outputId": "334e90ba-f5af-4aa8-b8cb-3423b8d9cecc"
      },
      "outputs": [
        {
          "output_type": "execute_result",
          "data": {
            "text/plain": [
              "    age     sex     bmi  children smoker     region       charges\n",
              "0  19.0  female  27.900       0.0    yes  southwest     16884.924\n",
              "1  18.0    male  33.770       1.0     no  Southeast     1725.5523\n",
              "2  28.0    male  33.000       3.0     no  southeast     $4449.462\n",
              "3  33.0    male  22.705       0.0     no  northwest  $21984.47061\n",
              "4  32.0    male  28.880       0.0     no  northwest    $3866.8552"
            ],
            "text/html": [
              "\n",
              "  <div id=\"df-c0230c45-2d8a-41eb-a4b9-2394791cb122\" class=\"colab-df-container\">\n",
              "    <div>\n",
              "<style scoped>\n",
              "    .dataframe tbody tr th:only-of-type {\n",
              "        vertical-align: middle;\n",
              "    }\n",
              "\n",
              "    .dataframe tbody tr th {\n",
              "        vertical-align: top;\n",
              "    }\n",
              "\n",
              "    .dataframe thead th {\n",
              "        text-align: right;\n",
              "    }\n",
              "</style>\n",
              "<table border=\"1\" class=\"dataframe\">\n",
              "  <thead>\n",
              "    <tr style=\"text-align: right;\">\n",
              "      <th></th>\n",
              "      <th>age</th>\n",
              "      <th>sex</th>\n",
              "      <th>bmi</th>\n",
              "      <th>children</th>\n",
              "      <th>smoker</th>\n",
              "      <th>region</th>\n",
              "      <th>charges</th>\n",
              "    </tr>\n",
              "  </thead>\n",
              "  <tbody>\n",
              "    <tr>\n",
              "      <th>0</th>\n",
              "      <td>19.0</td>\n",
              "      <td>female</td>\n",
              "      <td>27.900</td>\n",
              "      <td>0.0</td>\n",
              "      <td>yes</td>\n",
              "      <td>southwest</td>\n",
              "      <td>16884.924</td>\n",
              "    </tr>\n",
              "    <tr>\n",
              "      <th>1</th>\n",
              "      <td>18.0</td>\n",
              "      <td>male</td>\n",
              "      <td>33.770</td>\n",
              "      <td>1.0</td>\n",
              "      <td>no</td>\n",
              "      <td>Southeast</td>\n",
              "      <td>1725.5523</td>\n",
              "    </tr>\n",
              "    <tr>\n",
              "      <th>2</th>\n",
              "      <td>28.0</td>\n",
              "      <td>male</td>\n",
              "      <td>33.000</td>\n",
              "      <td>3.0</td>\n",
              "      <td>no</td>\n",
              "      <td>southeast</td>\n",
              "      <td>$4449.462</td>\n",
              "    </tr>\n",
              "    <tr>\n",
              "      <th>3</th>\n",
              "      <td>33.0</td>\n",
              "      <td>male</td>\n",
              "      <td>22.705</td>\n",
              "      <td>0.0</td>\n",
              "      <td>no</td>\n",
              "      <td>northwest</td>\n",
              "      <td>$21984.47061</td>\n",
              "    </tr>\n",
              "    <tr>\n",
              "      <th>4</th>\n",
              "      <td>32.0</td>\n",
              "      <td>male</td>\n",
              "      <td>28.880</td>\n",
              "      <td>0.0</td>\n",
              "      <td>no</td>\n",
              "      <td>northwest</td>\n",
              "      <td>$3866.8552</td>\n",
              "    </tr>\n",
              "  </tbody>\n",
              "</table>\n",
              "</div>\n",
              "    <div class=\"colab-df-buttons\">\n",
              "\n",
              "  <div class=\"colab-df-container\">\n",
              "    <button class=\"colab-df-convert\" onclick=\"convertToInteractive('df-c0230c45-2d8a-41eb-a4b9-2394791cb122')\"\n",
              "            title=\"Convert this dataframe to an interactive table.\"\n",
              "            style=\"display:none;\">\n",
              "\n",
              "  <svg xmlns=\"http://www.w3.org/2000/svg\" height=\"24px\" viewBox=\"0 -960 960 960\">\n",
              "    <path d=\"M120-120v-720h720v720H120Zm60-500h600v-160H180v160Zm220 220h160v-160H400v160Zm0 220h160v-160H400v160ZM180-400h160v-160H180v160Zm440 0h160v-160H620v160ZM180-180h160v-160H180v160Zm440 0h160v-160H620v160Z\"/>\n",
              "  </svg>\n",
              "    </button>\n",
              "\n",
              "  <style>\n",
              "    .colab-df-container {\n",
              "      display:flex;\n",
              "      gap: 12px;\n",
              "    }\n",
              "\n",
              "    .colab-df-convert {\n",
              "      background-color: #E8F0FE;\n",
              "      border: none;\n",
              "      border-radius: 50%;\n",
              "      cursor: pointer;\n",
              "      display: none;\n",
              "      fill: #1967D2;\n",
              "      height: 32px;\n",
              "      padding: 0 0 0 0;\n",
              "      width: 32px;\n",
              "    }\n",
              "\n",
              "    .colab-df-convert:hover {\n",
              "      background-color: #E2EBFA;\n",
              "      box-shadow: 0px 1px 2px rgba(60, 64, 67, 0.3), 0px 1px 3px 1px rgba(60, 64, 67, 0.15);\n",
              "      fill: #174EA6;\n",
              "    }\n",
              "\n",
              "    .colab-df-buttons div {\n",
              "      margin-bottom: 4px;\n",
              "    }\n",
              "\n",
              "    [theme=dark] .colab-df-convert {\n",
              "      background-color: #3B4455;\n",
              "      fill: #D2E3FC;\n",
              "    }\n",
              "\n",
              "    [theme=dark] .colab-df-convert:hover {\n",
              "      background-color: #434B5C;\n",
              "      box-shadow: 0px 1px 3px 1px rgba(0, 0, 0, 0.15);\n",
              "      filter: drop-shadow(0px 1px 2px rgba(0, 0, 0, 0.3));\n",
              "      fill: #FFFFFF;\n",
              "    }\n",
              "  </style>\n",
              "\n",
              "    <script>\n",
              "      const buttonEl =\n",
              "        document.querySelector('#df-c0230c45-2d8a-41eb-a4b9-2394791cb122 button.colab-df-convert');\n",
              "      buttonEl.style.display =\n",
              "        google.colab.kernel.accessAllowed ? 'block' : 'none';\n",
              "\n",
              "      async function convertToInteractive(key) {\n",
              "        const element = document.querySelector('#df-c0230c45-2d8a-41eb-a4b9-2394791cb122');\n",
              "        const dataTable =\n",
              "          await google.colab.kernel.invokeFunction('convertToInteractive',\n",
              "                                                    [key], {});\n",
              "        if (!dataTable) return;\n",
              "\n",
              "        const docLinkHtml = 'Like what you see? Visit the ' +\n",
              "          '<a target=\"_blank\" href=https://colab.research.google.com/notebooks/data_table.ipynb>data table notebook</a>'\n",
              "          + ' to learn more about interactive tables.';\n",
              "        element.innerHTML = '';\n",
              "        dataTable['output_type'] = 'display_data';\n",
              "        await google.colab.output.renderOutput(dataTable, element);\n",
              "        const docLink = document.createElement('div');\n",
              "        docLink.innerHTML = docLinkHtml;\n",
              "        element.appendChild(docLink);\n",
              "      }\n",
              "    </script>\n",
              "  </div>\n",
              "\n",
              "\n",
              "<div id=\"df-fdff344f-1d7d-47b3-8819-79d80681ce81\">\n",
              "  <button class=\"colab-df-quickchart\" onclick=\"quickchart('df-fdff344f-1d7d-47b3-8819-79d80681ce81')\"\n",
              "            title=\"Suggest charts\"\n",
              "            style=\"display:none;\">\n",
              "\n",
              "<svg xmlns=\"http://www.w3.org/2000/svg\" height=\"24px\"viewBox=\"0 0 24 24\"\n",
              "     width=\"24px\">\n",
              "    <g>\n",
              "        <path d=\"M19 3H5c-1.1 0-2 .9-2 2v14c0 1.1.9 2 2 2h14c1.1 0 2-.9 2-2V5c0-1.1-.9-2-2-2zM9 17H7v-7h2v7zm4 0h-2V7h2v10zm4 0h-2v-4h2v4z\"/>\n",
              "    </g>\n",
              "</svg>\n",
              "  </button>\n",
              "\n",
              "<style>\n",
              "  .colab-df-quickchart {\n",
              "      --bg-color: #E8F0FE;\n",
              "      --fill-color: #1967D2;\n",
              "      --hover-bg-color: #E2EBFA;\n",
              "      --hover-fill-color: #174EA6;\n",
              "      --disabled-fill-color: #AAA;\n",
              "      --disabled-bg-color: #DDD;\n",
              "  }\n",
              "\n",
              "  [theme=dark] .colab-df-quickchart {\n",
              "      --bg-color: #3B4455;\n",
              "      --fill-color: #D2E3FC;\n",
              "      --hover-bg-color: #434B5C;\n",
              "      --hover-fill-color: #FFFFFF;\n",
              "      --disabled-bg-color: #3B4455;\n",
              "      --disabled-fill-color: #666;\n",
              "  }\n",
              "\n",
              "  .colab-df-quickchart {\n",
              "    background-color: var(--bg-color);\n",
              "    border: none;\n",
              "    border-radius: 50%;\n",
              "    cursor: pointer;\n",
              "    display: none;\n",
              "    fill: var(--fill-color);\n",
              "    height: 32px;\n",
              "    padding: 0;\n",
              "    width: 32px;\n",
              "  }\n",
              "\n",
              "  .colab-df-quickchart:hover {\n",
              "    background-color: var(--hover-bg-color);\n",
              "    box-shadow: 0 1px 2px rgba(60, 64, 67, 0.3), 0 1px 3px 1px rgba(60, 64, 67, 0.15);\n",
              "    fill: var(--button-hover-fill-color);\n",
              "  }\n",
              "\n",
              "  .colab-df-quickchart-complete:disabled,\n",
              "  .colab-df-quickchart-complete:disabled:hover {\n",
              "    background-color: var(--disabled-bg-color);\n",
              "    fill: var(--disabled-fill-color);\n",
              "    box-shadow: none;\n",
              "  }\n",
              "\n",
              "  .colab-df-spinner {\n",
              "    border: 2px solid var(--fill-color);\n",
              "    border-color: transparent;\n",
              "    border-bottom-color: var(--fill-color);\n",
              "    animation:\n",
              "      spin 1s steps(1) infinite;\n",
              "  }\n",
              "\n",
              "  @keyframes spin {\n",
              "    0% {\n",
              "      border-color: transparent;\n",
              "      border-bottom-color: var(--fill-color);\n",
              "      border-left-color: var(--fill-color);\n",
              "    }\n",
              "    20% {\n",
              "      border-color: transparent;\n",
              "      border-left-color: var(--fill-color);\n",
              "      border-top-color: var(--fill-color);\n",
              "    }\n",
              "    30% {\n",
              "      border-color: transparent;\n",
              "      border-left-color: var(--fill-color);\n",
              "      border-top-color: var(--fill-color);\n",
              "      border-right-color: var(--fill-color);\n",
              "    }\n",
              "    40% {\n",
              "      border-color: transparent;\n",
              "      border-right-color: var(--fill-color);\n",
              "      border-top-color: var(--fill-color);\n",
              "    }\n",
              "    60% {\n",
              "      border-color: transparent;\n",
              "      border-right-color: var(--fill-color);\n",
              "    }\n",
              "    80% {\n",
              "      border-color: transparent;\n",
              "      border-right-color: var(--fill-color);\n",
              "      border-bottom-color: var(--fill-color);\n",
              "    }\n",
              "    90% {\n",
              "      border-color: transparent;\n",
              "      border-bottom-color: var(--fill-color);\n",
              "    }\n",
              "  }\n",
              "</style>\n",
              "\n",
              "  <script>\n",
              "    async function quickchart(key) {\n",
              "      const quickchartButtonEl =\n",
              "        document.querySelector('#' + key + ' button');\n",
              "      quickchartButtonEl.disabled = true;  // To prevent multiple clicks.\n",
              "      quickchartButtonEl.classList.add('colab-df-spinner');\n",
              "      try {\n",
              "        const charts = await google.colab.kernel.invokeFunction(\n",
              "            'suggestCharts', [key], {});\n",
              "      } catch (error) {\n",
              "        console.error('Error during call to suggestCharts:', error);\n",
              "      }\n",
              "      quickchartButtonEl.classList.remove('colab-df-spinner');\n",
              "      quickchartButtonEl.classList.add('colab-df-quickchart-complete');\n",
              "    }\n",
              "    (() => {\n",
              "      let quickchartButtonEl =\n",
              "        document.querySelector('#df-fdff344f-1d7d-47b3-8819-79d80681ce81 button');\n",
              "      quickchartButtonEl.style.display =\n",
              "        google.colab.kernel.accessAllowed ? 'block' : 'none';\n",
              "    })();\n",
              "  </script>\n",
              "</div>\n",
              "\n",
              "    </div>\n",
              "  </div>\n"
            ],
            "application/vnd.google.colaboratory.intrinsic+json": {
              "type": "dataframe",
              "variable_name": "insurance",
              "summary": "{\n  \"name\": \"insurance\",\n  \"rows\": 1338,\n  \"fields\": [\n    {\n      \"column\": \"age\",\n      \"properties\": {\n        \"dtype\": \"number\",\n        \"std\": 22.478250840158754,\n        \"min\": -64.0,\n        \"max\": 64.0,\n        \"num_unique_values\": 80,\n        \"samples\": [\n          40.0,\n          19.0,\n          22.0\n        ],\n        \"semantic_type\": \"\",\n        \"description\": \"\"\n      }\n    },\n    {\n      \"column\": \"sex\",\n      \"properties\": {\n        \"dtype\": \"category\",\n        \"num_unique_values\": 6,\n        \"samples\": [\n          \"female\",\n          \"male\",\n          \"M\"\n        ],\n        \"semantic_type\": \"\",\n        \"description\": \"\"\n      }\n    },\n    {\n      \"column\": \"bmi\",\n      \"properties\": {\n        \"dtype\": \"number\",\n        \"std\": 6.095573384170639,\n        \"min\": 15.96,\n        \"max\": 53.13,\n        \"num_unique_values\": 539,\n        \"samples\": [\n          29.59,\n          38.285,\n          29.48\n        ],\n        \"semantic_type\": \"\",\n        \"description\": \"\"\n      }\n    },\n    {\n      \"column\": \"children\",\n      \"properties\": {\n        \"dtype\": \"number\",\n        \"std\": 1.3035322282016102,\n        \"min\": -4.0,\n        \"max\": 5.0,\n        \"num_unique_values\": 10,\n        \"samples\": [\n          -3.0,\n          1.0,\n          4.0\n        ],\n        \"semantic_type\": \"\",\n        \"description\": \"\"\n      }\n    },\n    {\n      \"column\": \"smoker\",\n      \"properties\": {\n        \"dtype\": \"category\",\n        \"num_unique_values\": 2,\n        \"samples\": [\n          \"no\",\n          \"yes\"\n        ],\n        \"semantic_type\": \"\",\n        \"description\": \"\"\n      }\n    },\n    {\n      \"column\": \"region\",\n      \"properties\": {\n        \"dtype\": \"category\",\n        \"num_unique_values\": 8,\n        \"samples\": [\n          \"Southeast\",\n          \"Northeast\"\n        ],\n        \"semantic_type\": \"\",\n        \"description\": \"\"\n      }\n    },\n    {\n      \"column\": \"charges\",\n      \"properties\": {\n        \"dtype\": \"string\",\n        \"num_unique_values\": 1272,\n        \"samples\": [\n          \"7371.772\",\n          \"35595.5898\"\n        ],\n        \"semantic_type\": \"\",\n        \"description\": \"\"\n      }\n    }\n  ]\n}"
            }
          },
          "metadata": {},
          "execution_count": 27
        }
      ],
      "source": [
        "# prompt: import pandas as pd\n",
        "\n",
        "import pandas as pd\n",
        "insurance=pd.read_csv('https://raw.githubusercontent.com/KeithGalli/Regression-Example/refs/heads/master/insurance.csv')\n",
        "insurance.head()\n"
      ]
    },
    {
      "cell_type": "markdown",
      "source": [
        "## Task #1: Clean up the data\n",
        "### - Are there any missing values?\n",
        "### - Standardize categories in region\n",
        "### - Standardize sex to just two categories\n",
        "### - Change smoker column to boolean\n",
        "### - Standardize charges data type (float)"
      ],
      "metadata": {
        "id": "hPwC7tzOKuwb"
      }
    },
    {
      "cell_type": "code",
      "source": [
        "#Are there any missing values?\n",
        "\n",
        "insurance.isnull().sum()"
      ],
      "metadata": {
        "colab": {
          "base_uri": "https://localhost:8080/",
          "height": 304
        },
        "id": "D7YiDiWmKy4q",
        "outputId": "08d01878-0891-4afc-fbff-bc69ed446116"
      },
      "execution_count": null,
      "outputs": [
        {
          "output_type": "execute_result",
          "data": {
            "text/plain": [
              "age         66\n",
              "sex         66\n",
              "bmi         66\n",
              "children    66\n",
              "smoker      66\n",
              "region      66\n",
              "charges     54\n",
              "dtype: int64"
            ],
            "text/html": [
              "<div>\n",
              "<style scoped>\n",
              "    .dataframe tbody tr th:only-of-type {\n",
              "        vertical-align: middle;\n",
              "    }\n",
              "\n",
              "    .dataframe tbody tr th {\n",
              "        vertical-align: top;\n",
              "    }\n",
              "\n",
              "    .dataframe thead th {\n",
              "        text-align: right;\n",
              "    }\n",
              "</style>\n",
              "<table border=\"1\" class=\"dataframe\">\n",
              "  <thead>\n",
              "    <tr style=\"text-align: right;\">\n",
              "      <th></th>\n",
              "      <th>0</th>\n",
              "    </tr>\n",
              "  </thead>\n",
              "  <tbody>\n",
              "    <tr>\n",
              "      <th>age</th>\n",
              "      <td>66</td>\n",
              "    </tr>\n",
              "    <tr>\n",
              "      <th>sex</th>\n",
              "      <td>66</td>\n",
              "    </tr>\n",
              "    <tr>\n",
              "      <th>bmi</th>\n",
              "      <td>66</td>\n",
              "    </tr>\n",
              "    <tr>\n",
              "      <th>children</th>\n",
              "      <td>66</td>\n",
              "    </tr>\n",
              "    <tr>\n",
              "      <th>smoker</th>\n",
              "      <td>66</td>\n",
              "    </tr>\n",
              "    <tr>\n",
              "      <th>region</th>\n",
              "      <td>66</td>\n",
              "    </tr>\n",
              "    <tr>\n",
              "      <th>charges</th>\n",
              "      <td>54</td>\n",
              "    </tr>\n",
              "  </tbody>\n",
              "</table>\n",
              "</div><br><label><b>dtype:</b> int64</label>"
            ]
          },
          "metadata": {},
          "execution_count": 28
        }
      ]
    },
    {
      "cell_type": "code",
      "source": [
        "insurance.dtypes"
      ],
      "metadata": {
        "colab": {
          "base_uri": "https://localhost:8080/",
          "height": 304
        },
        "id": "xBopXlfGKqws",
        "outputId": "a52acbd9-b45f-41af-be48-6d483b84ac43"
      },
      "execution_count": null,
      "outputs": [
        {
          "output_type": "execute_result",
          "data": {
            "text/plain": [
              "age         float64\n",
              "sex          object\n",
              "bmi         float64\n",
              "children    float64\n",
              "smoker       object\n",
              "region       object\n",
              "charges      object\n",
              "dtype: object"
            ],
            "text/html": [
              "<div>\n",
              "<style scoped>\n",
              "    .dataframe tbody tr th:only-of-type {\n",
              "        vertical-align: middle;\n",
              "    }\n",
              "\n",
              "    .dataframe tbody tr th {\n",
              "        vertical-align: top;\n",
              "    }\n",
              "\n",
              "    .dataframe thead th {\n",
              "        text-align: right;\n",
              "    }\n",
              "</style>\n",
              "<table border=\"1\" class=\"dataframe\">\n",
              "  <thead>\n",
              "    <tr style=\"text-align: right;\">\n",
              "      <th></th>\n",
              "      <th>0</th>\n",
              "    </tr>\n",
              "  </thead>\n",
              "  <tbody>\n",
              "    <tr>\n",
              "      <th>age</th>\n",
              "      <td>float64</td>\n",
              "    </tr>\n",
              "    <tr>\n",
              "      <th>sex</th>\n",
              "      <td>object</td>\n",
              "    </tr>\n",
              "    <tr>\n",
              "      <th>bmi</th>\n",
              "      <td>float64</td>\n",
              "    </tr>\n",
              "    <tr>\n",
              "      <th>children</th>\n",
              "      <td>float64</td>\n",
              "    </tr>\n",
              "    <tr>\n",
              "      <th>smoker</th>\n",
              "      <td>object</td>\n",
              "    </tr>\n",
              "    <tr>\n",
              "      <th>region</th>\n",
              "      <td>object</td>\n",
              "    </tr>\n",
              "    <tr>\n",
              "      <th>charges</th>\n",
              "      <td>object</td>\n",
              "    </tr>\n",
              "  </tbody>\n",
              "</table>\n",
              "</div><br><label><b>dtype:</b> object</label>"
            ]
          },
          "metadata": {},
          "execution_count": 29
        }
      ]
    },
    {
      "cell_type": "code",
      "source": [
        "insurance_filled = insurance.dropna()\n",
        "insurance_filled.isnull().sum()\n",
        "insurance_filled.info()"
      ],
      "metadata": {
        "colab": {
          "base_uri": "https://localhost:8080/"
        },
        "id": "WIaROiAwLW2c",
        "outputId": "0207cfd8-fca8-4139-bbcb-26f226fdc3b6"
      },
      "execution_count": null,
      "outputs": [
        {
          "output_type": "stream",
          "name": "stdout",
          "text": [
            "<class 'pandas.core.frame.DataFrame'>\n",
            "Index: 1208 entries, 0 to 1337\n",
            "Data columns (total 7 columns):\n",
            " #   Column    Non-Null Count  Dtype  \n",
            "---  ------    --------------  -----  \n",
            " 0   age       1208 non-null   float64\n",
            " 1   sex       1208 non-null   object \n",
            " 2   bmi       1208 non-null   float64\n",
            " 3   children  1208 non-null   float64\n",
            " 4   smoker    1208 non-null   object \n",
            " 5   region    1208 non-null   object \n",
            " 6   charges   1208 non-null   object \n",
            "dtypes: float64(3), object(4)\n",
            "memory usage: 75.5+ KB\n"
          ]
        }
      ]
    },
    {
      "cell_type": "code",
      "source": [
        "# Standardize categories in region\n",
        "insurance_filled['region'].unique()\n",
        "# Ensure you're working with a copy of the DataFrame\n",
        "insurance_filled = insurance_filled.copy()\n",
        "\n",
        "# Convert the 'region' column to lowercase\n",
        "insurance_filled['region'] = insurance_filled['region'].str.lower()\n",
        "\n",
        "# Check the unique values to confirm everything is lowercase\n",
        "print(insurance_filled['region'].unique())\n"
      ],
      "metadata": {
        "colab": {
          "base_uri": "https://localhost:8080/"
        },
        "id": "XKsri8ZILXD3",
        "outputId": "94058208-50ba-4502-813e-28a9fd50e1b7"
      },
      "execution_count": null,
      "outputs": [
        {
          "output_type": "stream",
          "name": "stdout",
          "text": [
            "['southwest' 'southeast' 'northwest' 'northeast']\n"
          ]
        }
      ]
    },
    {
      "cell_type": "code",
      "source": [
        "#Standardize sex to just two categories\n",
        "FEMALE = 'female'\n",
        "MALE = 'male'\n",
        "sex_map = {'F': FEMALE, 'woman': FEMALE, 'man': MALE, 'M': MALE}\n",
        "\n",
        "insurance_filled['sex'] = insurance_filled['sex'].replace(sex_map)"
      ],
      "metadata": {
        "id": "O5Gt86CkLXd3"
      },
      "execution_count": null,
      "outputs": []
    },
    {
      "cell_type": "code",
      "source": [
        "insurance_filled['sex'].unique()"
      ],
      "metadata": {
        "colab": {
          "base_uri": "https://localhost:8080/"
        },
        "id": "Er2N9bIzNyQc",
        "outputId": "e818bac9-efa2-4241-cebd-e2505dd5fdbd"
      },
      "execution_count": null,
      "outputs": [
        {
          "output_type": "execute_result",
          "data": {
            "text/plain": [
              "array(['female', 'male'], dtype=object)"
            ]
          },
          "metadata": {},
          "execution_count": 33
        }
      ]
    },
    {
      "cell_type": "code",
      "source": [
        "#Change smoker column to boolean\n",
        "insurance_filled['smoker'].unique()"
      ],
      "metadata": {
        "colab": {
          "base_uri": "https://localhost:8080/"
        },
        "id": "JpdcjbWFN9EO",
        "outputId": "7641b815-256c-419b-ea0e-27abaabf153f"
      },
      "execution_count": null,
      "outputs": [
        {
          "output_type": "execute_result",
          "data": {
            "text/plain": [
              "array(['yes', 'no'], dtype=object)"
            ]
          },
          "metadata": {},
          "execution_count": 34
        }
      ]
    },
    {
      "cell_type": "code",
      "source": [
        "insurance_filled['smoker'] = (insurance_filled['smoker'] == 'yes')"
      ],
      "metadata": {
        "id": "Edz9WC6zN9G3"
      },
      "execution_count": null,
      "outputs": []
    },
    {
      "cell_type": "code",
      "source": [
        "insurance_filled.info()"
      ],
      "metadata": {
        "colab": {
          "base_uri": "https://localhost:8080/"
        },
        "id": "ts1eEDLUN9KM",
        "outputId": "c6678f6c-7996-4e1e-987a-f5b5a171773c"
      },
      "execution_count": null,
      "outputs": [
        {
          "output_type": "stream",
          "name": "stdout",
          "text": [
            "<class 'pandas.core.frame.DataFrame'>\n",
            "Index: 1208 entries, 0 to 1337\n",
            "Data columns (total 7 columns):\n",
            " #   Column    Non-Null Count  Dtype  \n",
            "---  ------    --------------  -----  \n",
            " 0   age       1208 non-null   float64\n",
            " 1   sex       1208 non-null   object \n",
            " 2   bmi       1208 non-null   float64\n",
            " 3   children  1208 non-null   float64\n",
            " 4   smoker    1208 non-null   bool   \n",
            " 5   region    1208 non-null   object \n",
            " 6   charges   1208 non-null   object \n",
            "dtypes: bool(1), float64(3), object(3)\n",
            "memory usage: 67.2+ KB\n"
          ]
        }
      ]
    },
    {
      "cell_type": "code",
      "source": [
        "#Standardize charges data type (float)\n",
        "insurance_filled['charges'] = insurance_filled['charges'].str.strip('$').astype('float64')\n"
      ],
      "metadata": {
        "id": "Xp3rD2gwN9Nb"
      },
      "execution_count": null,
      "outputs": []
    },
    {
      "cell_type": "code",
      "source": [
        "insurance_filled.info()"
      ],
      "metadata": {
        "colab": {
          "base_uri": "https://localhost:8080/"
        },
        "id": "txCMJ6NnRo7m",
        "outputId": "3dec3f91-b48d-46d4-8ff5-4832261b8300"
      },
      "execution_count": null,
      "outputs": [
        {
          "output_type": "stream",
          "name": "stdout",
          "text": [
            "<class 'pandas.core.frame.DataFrame'>\n",
            "Index: 1208 entries, 0 to 1337\n",
            "Data columns (total 7 columns):\n",
            " #   Column    Non-Null Count  Dtype  \n",
            "---  ------    --------------  -----  \n",
            " 0   age       1208 non-null   float64\n",
            " 1   sex       1208 non-null   object \n",
            " 2   bmi       1208 non-null   float64\n",
            " 3   children  1208 non-null   float64\n",
            " 4   smoker    1208 non-null   bool   \n",
            " 5   region    1208 non-null   object \n",
            " 6   charges   1207 non-null   float64\n",
            "dtypes: bool(1), float64(4), object(2)\n",
            "memory usage: 67.2+ KB\n"
          ]
        }
      ]
    },
    {
      "cell_type": "code",
      "source": [
        "import numpy as np\n",
        "#converting the negative ages to positive\n",
        "insurance_pos = insurance_filled.apply(lambda x: x.abs() if np.issubdtype(x.dtype, np.number) else x)\n",
        "\n",
        "insurance_pos.sample(10)"
      ],
      "metadata": {
        "colab": {
          "base_uri": "https://localhost:8080/",
          "height": 363
        },
        "id": "5c7mDCDcSLnp",
        "outputId": "6ea1d837-3dfa-44d0-a26d-6c192a254c7a"
      },
      "execution_count": null,
      "outputs": [
        {
          "output_type": "execute_result",
          "data": {
            "text/plain": [
              "       age     sex     bmi  children  smoker     region      charges\n",
              "201   48.0  female  32.230       1.0   False  southeast   8871.15170\n",
              "333   56.0  female  28.785       0.0   False  northeast  11658.37915\n",
              "336   60.0    male  25.740       0.0   False  southeast  12142.57860\n",
              "537   46.0  female  30.200       2.0   False  southwest   8825.08600\n",
              "734   59.0  female  32.100       3.0   False  southwest  14007.22200\n",
              "384   44.0    male  22.135       2.0   False  northeast   8302.53565\n",
              "693   24.0    male  23.655       0.0   False  northwest   2352.96845\n",
              "385   19.0    male  34.400       0.0   False  southwest   1261.85900\n",
              "408   38.0    male  21.120       3.0   False  southeast   6652.52880\n",
              "1059  32.0    male  33.820       1.0   False  northwest   4462.72180"
            ],
            "text/html": [
              "\n",
              "  <div id=\"df-71051714-3814-437f-8aed-95895c39b658\" class=\"colab-df-container\">\n",
              "    <div>\n",
              "<style scoped>\n",
              "    .dataframe tbody tr th:only-of-type {\n",
              "        vertical-align: middle;\n",
              "    }\n",
              "\n",
              "    .dataframe tbody tr th {\n",
              "        vertical-align: top;\n",
              "    }\n",
              "\n",
              "    .dataframe thead th {\n",
              "        text-align: right;\n",
              "    }\n",
              "</style>\n",
              "<table border=\"1\" class=\"dataframe\">\n",
              "  <thead>\n",
              "    <tr style=\"text-align: right;\">\n",
              "      <th></th>\n",
              "      <th>age</th>\n",
              "      <th>sex</th>\n",
              "      <th>bmi</th>\n",
              "      <th>children</th>\n",
              "      <th>smoker</th>\n",
              "      <th>region</th>\n",
              "      <th>charges</th>\n",
              "    </tr>\n",
              "  </thead>\n",
              "  <tbody>\n",
              "    <tr>\n",
              "      <th>201</th>\n",
              "      <td>48.0</td>\n",
              "      <td>female</td>\n",
              "      <td>32.230</td>\n",
              "      <td>1.0</td>\n",
              "      <td>False</td>\n",
              "      <td>southeast</td>\n",
              "      <td>8871.15170</td>\n",
              "    </tr>\n",
              "    <tr>\n",
              "      <th>333</th>\n",
              "      <td>56.0</td>\n",
              "      <td>female</td>\n",
              "      <td>28.785</td>\n",
              "      <td>0.0</td>\n",
              "      <td>False</td>\n",
              "      <td>northeast</td>\n",
              "      <td>11658.37915</td>\n",
              "    </tr>\n",
              "    <tr>\n",
              "      <th>336</th>\n",
              "      <td>60.0</td>\n",
              "      <td>male</td>\n",
              "      <td>25.740</td>\n",
              "      <td>0.0</td>\n",
              "      <td>False</td>\n",
              "      <td>southeast</td>\n",
              "      <td>12142.57860</td>\n",
              "    </tr>\n",
              "    <tr>\n",
              "      <th>537</th>\n",
              "      <td>46.0</td>\n",
              "      <td>female</td>\n",
              "      <td>30.200</td>\n",
              "      <td>2.0</td>\n",
              "      <td>False</td>\n",
              "      <td>southwest</td>\n",
              "      <td>8825.08600</td>\n",
              "    </tr>\n",
              "    <tr>\n",
              "      <th>734</th>\n",
              "      <td>59.0</td>\n",
              "      <td>female</td>\n",
              "      <td>32.100</td>\n",
              "      <td>3.0</td>\n",
              "      <td>False</td>\n",
              "      <td>southwest</td>\n",
              "      <td>14007.22200</td>\n",
              "    </tr>\n",
              "    <tr>\n",
              "      <th>384</th>\n",
              "      <td>44.0</td>\n",
              "      <td>male</td>\n",
              "      <td>22.135</td>\n",
              "      <td>2.0</td>\n",
              "      <td>False</td>\n",
              "      <td>northeast</td>\n",
              "      <td>8302.53565</td>\n",
              "    </tr>\n",
              "    <tr>\n",
              "      <th>693</th>\n",
              "      <td>24.0</td>\n",
              "      <td>male</td>\n",
              "      <td>23.655</td>\n",
              "      <td>0.0</td>\n",
              "      <td>False</td>\n",
              "      <td>northwest</td>\n",
              "      <td>2352.96845</td>\n",
              "    </tr>\n",
              "    <tr>\n",
              "      <th>385</th>\n",
              "      <td>19.0</td>\n",
              "      <td>male</td>\n",
              "      <td>34.400</td>\n",
              "      <td>0.0</td>\n",
              "      <td>False</td>\n",
              "      <td>southwest</td>\n",
              "      <td>1261.85900</td>\n",
              "    </tr>\n",
              "    <tr>\n",
              "      <th>408</th>\n",
              "      <td>38.0</td>\n",
              "      <td>male</td>\n",
              "      <td>21.120</td>\n",
              "      <td>3.0</td>\n",
              "      <td>False</td>\n",
              "      <td>southeast</td>\n",
              "      <td>6652.52880</td>\n",
              "    </tr>\n",
              "    <tr>\n",
              "      <th>1059</th>\n",
              "      <td>32.0</td>\n",
              "      <td>male</td>\n",
              "      <td>33.820</td>\n",
              "      <td>1.0</td>\n",
              "      <td>False</td>\n",
              "      <td>northwest</td>\n",
              "      <td>4462.72180</td>\n",
              "    </tr>\n",
              "  </tbody>\n",
              "</table>\n",
              "</div>\n",
              "    <div class=\"colab-df-buttons\">\n",
              "\n",
              "  <div class=\"colab-df-container\">\n",
              "    <button class=\"colab-df-convert\" onclick=\"convertToInteractive('df-71051714-3814-437f-8aed-95895c39b658')\"\n",
              "            title=\"Convert this dataframe to an interactive table.\"\n",
              "            style=\"display:none;\">\n",
              "\n",
              "  <svg xmlns=\"http://www.w3.org/2000/svg\" height=\"24px\" viewBox=\"0 -960 960 960\">\n",
              "    <path d=\"M120-120v-720h720v720H120Zm60-500h600v-160H180v160Zm220 220h160v-160H400v160Zm0 220h160v-160H400v160ZM180-400h160v-160H180v160Zm440 0h160v-160H620v160ZM180-180h160v-160H180v160Zm440 0h160v-160H620v160Z\"/>\n",
              "  </svg>\n",
              "    </button>\n",
              "\n",
              "  <style>\n",
              "    .colab-df-container {\n",
              "      display:flex;\n",
              "      gap: 12px;\n",
              "    }\n",
              "\n",
              "    .colab-df-convert {\n",
              "      background-color: #E8F0FE;\n",
              "      border: none;\n",
              "      border-radius: 50%;\n",
              "      cursor: pointer;\n",
              "      display: none;\n",
              "      fill: #1967D2;\n",
              "      height: 32px;\n",
              "      padding: 0 0 0 0;\n",
              "      width: 32px;\n",
              "    }\n",
              "\n",
              "    .colab-df-convert:hover {\n",
              "      background-color: #E2EBFA;\n",
              "      box-shadow: 0px 1px 2px rgba(60, 64, 67, 0.3), 0px 1px 3px 1px rgba(60, 64, 67, 0.15);\n",
              "      fill: #174EA6;\n",
              "    }\n",
              "\n",
              "    .colab-df-buttons div {\n",
              "      margin-bottom: 4px;\n",
              "    }\n",
              "\n",
              "    [theme=dark] .colab-df-convert {\n",
              "      background-color: #3B4455;\n",
              "      fill: #D2E3FC;\n",
              "    }\n",
              "\n",
              "    [theme=dark] .colab-df-convert:hover {\n",
              "      background-color: #434B5C;\n",
              "      box-shadow: 0px 1px 3px 1px rgba(0, 0, 0, 0.15);\n",
              "      filter: drop-shadow(0px 1px 2px rgba(0, 0, 0, 0.3));\n",
              "      fill: #FFFFFF;\n",
              "    }\n",
              "  </style>\n",
              "\n",
              "    <script>\n",
              "      const buttonEl =\n",
              "        document.querySelector('#df-71051714-3814-437f-8aed-95895c39b658 button.colab-df-convert');\n",
              "      buttonEl.style.display =\n",
              "        google.colab.kernel.accessAllowed ? 'block' : 'none';\n",
              "\n",
              "      async function convertToInteractive(key) {\n",
              "        const element = document.querySelector('#df-71051714-3814-437f-8aed-95895c39b658');\n",
              "        const dataTable =\n",
              "          await google.colab.kernel.invokeFunction('convertToInteractive',\n",
              "                                                    [key], {});\n",
              "        if (!dataTable) return;\n",
              "\n",
              "        const docLinkHtml = 'Like what you see? Visit the ' +\n",
              "          '<a target=\"_blank\" href=https://colab.research.google.com/notebooks/data_table.ipynb>data table notebook</a>'\n",
              "          + ' to learn more about interactive tables.';\n",
              "        element.innerHTML = '';\n",
              "        dataTable['output_type'] = 'display_data';\n",
              "        await google.colab.output.renderOutput(dataTable, element);\n",
              "        const docLink = document.createElement('div');\n",
              "        docLink.innerHTML = docLinkHtml;\n",
              "        element.appendChild(docLink);\n",
              "      }\n",
              "    </script>\n",
              "  </div>\n",
              "\n",
              "\n",
              "<div id=\"df-845ac95f-ebc5-4081-afe8-e4bf5b1f31f7\">\n",
              "  <button class=\"colab-df-quickchart\" onclick=\"quickchart('df-845ac95f-ebc5-4081-afe8-e4bf5b1f31f7')\"\n",
              "            title=\"Suggest charts\"\n",
              "            style=\"display:none;\">\n",
              "\n",
              "<svg xmlns=\"http://www.w3.org/2000/svg\" height=\"24px\"viewBox=\"0 0 24 24\"\n",
              "     width=\"24px\">\n",
              "    <g>\n",
              "        <path d=\"M19 3H5c-1.1 0-2 .9-2 2v14c0 1.1.9 2 2 2h14c1.1 0 2-.9 2-2V5c0-1.1-.9-2-2-2zM9 17H7v-7h2v7zm4 0h-2V7h2v10zm4 0h-2v-4h2v4z\"/>\n",
              "    </g>\n",
              "</svg>\n",
              "  </button>\n",
              "\n",
              "<style>\n",
              "  .colab-df-quickchart {\n",
              "      --bg-color: #E8F0FE;\n",
              "      --fill-color: #1967D2;\n",
              "      --hover-bg-color: #E2EBFA;\n",
              "      --hover-fill-color: #174EA6;\n",
              "      --disabled-fill-color: #AAA;\n",
              "      --disabled-bg-color: #DDD;\n",
              "  }\n",
              "\n",
              "  [theme=dark] .colab-df-quickchart {\n",
              "      --bg-color: #3B4455;\n",
              "      --fill-color: #D2E3FC;\n",
              "      --hover-bg-color: #434B5C;\n",
              "      --hover-fill-color: #FFFFFF;\n",
              "      --disabled-bg-color: #3B4455;\n",
              "      --disabled-fill-color: #666;\n",
              "  }\n",
              "\n",
              "  .colab-df-quickchart {\n",
              "    background-color: var(--bg-color);\n",
              "    border: none;\n",
              "    border-radius: 50%;\n",
              "    cursor: pointer;\n",
              "    display: none;\n",
              "    fill: var(--fill-color);\n",
              "    height: 32px;\n",
              "    padding: 0;\n",
              "    width: 32px;\n",
              "  }\n",
              "\n",
              "  .colab-df-quickchart:hover {\n",
              "    background-color: var(--hover-bg-color);\n",
              "    box-shadow: 0 1px 2px rgba(60, 64, 67, 0.3), 0 1px 3px 1px rgba(60, 64, 67, 0.15);\n",
              "    fill: var(--button-hover-fill-color);\n",
              "  }\n",
              "\n",
              "  .colab-df-quickchart-complete:disabled,\n",
              "  .colab-df-quickchart-complete:disabled:hover {\n",
              "    background-color: var(--disabled-bg-color);\n",
              "    fill: var(--disabled-fill-color);\n",
              "    box-shadow: none;\n",
              "  }\n",
              "\n",
              "  .colab-df-spinner {\n",
              "    border: 2px solid var(--fill-color);\n",
              "    border-color: transparent;\n",
              "    border-bottom-color: var(--fill-color);\n",
              "    animation:\n",
              "      spin 1s steps(1) infinite;\n",
              "  }\n",
              "\n",
              "  @keyframes spin {\n",
              "    0% {\n",
              "      border-color: transparent;\n",
              "      border-bottom-color: var(--fill-color);\n",
              "      border-left-color: var(--fill-color);\n",
              "    }\n",
              "    20% {\n",
              "      border-color: transparent;\n",
              "      border-left-color: var(--fill-color);\n",
              "      border-top-color: var(--fill-color);\n",
              "    }\n",
              "    30% {\n",
              "      border-color: transparent;\n",
              "      border-left-color: var(--fill-color);\n",
              "      border-top-color: var(--fill-color);\n",
              "      border-right-color: var(--fill-color);\n",
              "    }\n",
              "    40% {\n",
              "      border-color: transparent;\n",
              "      border-right-color: var(--fill-color);\n",
              "      border-top-color: var(--fill-color);\n",
              "    }\n",
              "    60% {\n",
              "      border-color: transparent;\n",
              "      border-right-color: var(--fill-color);\n",
              "    }\n",
              "    80% {\n",
              "      border-color: transparent;\n",
              "      border-right-color: var(--fill-color);\n",
              "      border-bottom-color: var(--fill-color);\n",
              "    }\n",
              "    90% {\n",
              "      border-color: transparent;\n",
              "      border-bottom-color: var(--fill-color);\n",
              "    }\n",
              "  }\n",
              "</style>\n",
              "\n",
              "  <script>\n",
              "    async function quickchart(key) {\n",
              "      const quickchartButtonEl =\n",
              "        document.querySelector('#' + key + ' button');\n",
              "      quickchartButtonEl.disabled = true;  // To prevent multiple clicks.\n",
              "      quickchartButtonEl.classList.add('colab-df-spinner');\n",
              "      try {\n",
              "        const charts = await google.colab.kernel.invokeFunction(\n",
              "            'suggestCharts', [key], {});\n",
              "      } catch (error) {\n",
              "        console.error('Error during call to suggestCharts:', error);\n",
              "      }\n",
              "      quickchartButtonEl.classList.remove('colab-df-spinner');\n",
              "      quickchartButtonEl.classList.add('colab-df-quickchart-complete');\n",
              "    }\n",
              "    (() => {\n",
              "      let quickchartButtonEl =\n",
              "        document.querySelector('#df-845ac95f-ebc5-4081-afe8-e4bf5b1f31f7 button');\n",
              "      quickchartButtonEl.style.display =\n",
              "        google.colab.kernel.accessAllowed ? 'block' : 'none';\n",
              "    })();\n",
              "  </script>\n",
              "</div>\n",
              "\n",
              "    </div>\n",
              "  </div>\n"
            ],
            "application/vnd.google.colaboratory.intrinsic+json": {
              "type": "dataframe",
              "summary": "{\n  \"name\": \"insurance_pos\",\n  \"rows\": 10,\n  \"fields\": [\n    {\n      \"column\": \"age\",\n      \"properties\": {\n        \"dtype\": \"number\",\n        \"std\": 14.261058087595668,\n        \"min\": 19.0,\n        \"max\": 60.0,\n        \"num_unique_values\": 10,\n        \"samples\": [\n          38.0,\n          56.0,\n          44.0\n        ],\n        \"semantic_type\": \"\",\n        \"description\": \"\"\n      }\n    },\n    {\n      \"column\": \"sex\",\n      \"properties\": {\n        \"dtype\": \"category\",\n        \"num_unique_values\": 2,\n        \"samples\": [\n          \"male\",\n          \"female\"\n        ],\n        \"semantic_type\": \"\",\n        \"description\": \"\"\n      }\n    },\n    {\n      \"column\": \"bmi\",\n      \"properties\": {\n        \"dtype\": \"number\",\n        \"std\": 4.932425057154385,\n        \"min\": 21.12,\n        \"max\": 34.4,\n        \"num_unique_values\": 10,\n        \"samples\": [\n          21.12,\n          28.785\n        ],\n        \"semantic_type\": \"\",\n        \"description\": \"\"\n      }\n    },\n    {\n      \"column\": \"children\",\n      \"properties\": {\n        \"dtype\": \"number\",\n        \"std\": 1.2292725943057183,\n        \"min\": 0.0,\n        \"max\": 3.0,\n        \"num_unique_values\": 4,\n        \"samples\": [\n          0.0,\n          3.0\n        ],\n        \"semantic_type\": \"\",\n        \"description\": \"\"\n      }\n    },\n    {\n      \"column\": \"smoker\",\n      \"properties\": {\n        \"dtype\": \"boolean\",\n        \"num_unique_values\": 1,\n        \"samples\": [\n          false\n        ],\n        \"semantic_type\": \"\",\n        \"description\": \"\"\n      }\n    },\n    {\n      \"column\": \"region\",\n      \"properties\": {\n        \"dtype\": \"category\",\n        \"num_unique_values\": 4,\n        \"samples\": [\n          \"northeast\"\n        ],\n        \"semantic_type\": \"\",\n        \"description\": \"\"\n      }\n    },\n    {\n      \"column\": \"charges\",\n      \"properties\": {\n        \"dtype\": \"number\",\n        \"std\": 4210.675704641722,\n        \"min\": 1261.859,\n        \"max\": 14007.222,\n        \"num_unique_values\": 10,\n        \"samples\": [\n          6652.5288\n        ],\n        \"semantic_type\": \"\",\n        \"description\": \"\"\n      }\n    }\n  ]\n}"
            }
          },
          "metadata": {},
          "execution_count": 39
        }
      ]
    },
    {
      "cell_type": "markdown",
      "source": [
        "# Task #2: Scatterplots of relationships between variables & charges\n"
      ],
      "metadata": {
        "id": "9_0ht106Su4-"
      }
    },
    {
      "cell_type": "code",
      "source": [
        "import matplotlib.pyplot as plt\n",
        "import seaborn as sns"
      ],
      "metadata": {
        "id": "HPwOVBcuSMC5"
      },
      "execution_count": null,
      "outputs": []
    },
    {
      "cell_type": "code",
      "source": [
        "df = insurance_pos.copy()\n",
        "plt.scatter(df['age'], df['charges'])\n",
        "plt.xlabel('Age')\n",
        "plt.ylabel('Charges')\n",
        "plt.title('Age vs. Charges')\n",
        "plt.show()\n"
      ],
      "metadata": {
        "colab": {
          "base_uri": "https://localhost:8080/",
          "height": 472
        },
        "id": "cDCREOjbTUNr",
        "outputId": "83601a93-c691-4d36-c161-c0deca643a5b"
      },
      "execution_count": null,
      "outputs": [
        {
          "output_type": "display_data",
          "data": {
            "text/plain": [
              "<Figure size 640x480 with 1 Axes>"
            ],
            "image/png": "[encoded data removed]"
          },
          "metadata": {}
        }
      ]
    },
    {
      "cell_type": "code",
      "source": [
        "plt.scatter(df['bmi'], df['charges'])\n",
        "plt.xlabel('BMI')\n",
        "plt.ylabel('Charges')\n",
        "plt.title('BMI vs. Charges')\n",
        "plt.show()"
      ],
      "metadata": {
        "colab": {
          "base_uri": "https://localhost:8080/",
          "height": 472
        },
        "id": "dp4oAgEOU-vg",
        "outputId": "ba683f1a-a2ed-49be-c304-7d2f73120113"
      },
      "execution_count": null,
      "outputs": [
        {
          "output_type": "display_data",
          "data": {
            "text/plain": [
              "<Figure size 640x480 with 1 Axes>"
            ],
            "image/png": "[encoded data removed]"
          },
          "metadata": {}
        }
      ]
    },
    {
      "cell_type": "code",
      "source": [
        "plt.scatter(df['smoker'], df['charges'])\n",
        "plt.xlabel('smoker')\n",
        "plt.ylabel('Charges')\n",
        "plt.title('smoker vs. Charges')\n",
        "plt.show()"
      ],
      "metadata": {
        "colab": {
          "base_uri": "https://localhost:8080/",
          "height": 472
        },
        "id": "8Bz5DpRUVcfp",
        "outputId": "2e1ea04a-364e-423f-82c1-3845d2f8b278"
      },
      "execution_count": null,
      "outputs": [
        {
          "output_type": "display_data",
          "data": {
            "text/plain": [
              "<Figure size 640x480 with 1 Axes>"
            ],
            "image/png": "[encoded data removed]"
          },
          "metadata": {}
        }
      ]
    },
    {
      "cell_type": "markdown",
      "source": [
        "# Task #3 - Prepare the data for a model fitting"
      ],
      "metadata": {
        "id": "cl_zf-s1Wt6h"
      }
    },
    {
      "cell_type": "code",
      "source": [
        "# Task #3 - Prepare the data for a model fitting\n",
        "\n",
        "# One-hot encode the 'region' column and drop 'region_southeast' as reference\n",
        "df_new = pd.get_dummies(df, prefix=['region'], columns=['region'])\n",
        "df_new = df_new.drop(columns=['region_southeast'])\n",
        "\n",
        "# Convert 'smoker' column from 'yes'/'no' to 1/0\n",
        "df_new['smoker'] = df_new['smoker'].astype('int64')\n",
        "\n",
        "# Create 'is_male' column and drop 'sex' column\n",
        "df_new['is_male'] = (df_new['sex'] == 'male').astype('int64')\n",
        "df_new = df_new.drop(columns=['sex'])\n",
        "\n",
        "# Drop any rows with missing values\n",
        "df_new = df_new.dropna()\n",
        "\n",
        "# Display the first few rows of the modified dataframe\n",
        "df_new.head()\n"
      ],
      "metadata": {
        "colab": {
          "base_uri": "https://localhost:8080/",
          "height": 206
        },
        "id": "xb2oJAcOWvwo",
        "outputId": "f5d01dc4-ef72-4bb2-fee4-2282754925a5"
      },
      "execution_count": null,
      "outputs": [
        {
          "output_type": "execute_result",
          "data": {
            "text/plain": [
              "    age     bmi  children  smoker      charges  region_northeast  \\\n",
              "0  19.0  27.900       0.0       1  16884.92400             False   \n",
              "1  18.0  33.770       1.0       0   1725.55230             False   \n",
              "2  28.0  33.000       3.0       0   4449.46200             False   \n",
              "3  33.0  22.705       0.0       0  21984.47061             False   \n",
              "4  32.0  28.880       0.0       0   3866.85520             False   \n",
              "\n",
              "   region_northwest  region_southwest  is_male  \n",
              "0             False              True        0  \n",
              "1             False             False        1  \n",
              "2             False             False        1  \n",
              "3              True             False        1  \n",
              "4              True             False        1  "
            ],
            "text/html": [
              "\n",
              "  <div id=\"df-df536c96-6ae8-4146-84b8-83f3f7c49081\" class=\"colab-df-container\">\n",
              "    <div>\n",
              "<style scoped>\n",
              "    .dataframe tbody tr th:only-of-type {\n",
              "        vertical-align: middle;\n",
              "    }\n",
              "\n",
              "    .dataframe tbody tr th {\n",
              "        vertical-align: top;\n",
              "    }\n",
              "\n",
              "    .dataframe thead th {\n",
              "        text-align: right;\n",
              "    }\n",
              "</style>\n",
              "<table border=\"1\" class=\"dataframe\">\n",
              "  <thead>\n",
              "    <tr style=\"text-align: right;\">\n",
              "      <th></th>\n",
              "      <th>age</th>\n",
              "      <th>bmi</th>\n",
              "      <th>children</th>\n",
              "      <th>smoker</th>\n",
              "      <th>charges</th>\n",
              "      <th>region_northeast</th>\n",
              "      <th>region_northwest</th>\n",
              "      <th>region_southwest</th>\n",
              "      <th>is_male</th>\n",
              "    </tr>\n",
              "  </thead>\n",
              "  <tbody>\n",
              "    <tr>\n",
              "      <th>0</th>\n",
              "      <td>19.0</td>\n",
              "      <td>27.900</td>\n",
              "      <td>0.0</td>\n",
              "      <td>1</td>\n",
              "      <td>16884.92400</td>\n",
              "      <td>False</td>\n",
              "      <td>False</td>\n",
              "      <td>True</td>\n",
              "      <td>0</td>\n",
              "    </tr>\n",
              "    <tr>\n",
              "      <th>1</th>\n",
              "      <td>18.0</td>\n",
              "      <td>33.770</td>\n",
              "      <td>1.0</td>\n",
              "      <td>0</td>\n",
              "      <td>1725.55230</td>\n",
              "      <td>False</td>\n",
              "      <td>False</td>\n",
              "      <td>False</td>\n",
              "      <td>1</td>\n",
              "    </tr>\n",
              "    <tr>\n",
              "      <th>2</th>\n",
              "      <td>28.0</td>\n",
              "      <td>33.000</td>\n",
              "      <td>3.0</td>\n",
              "      <td>0</td>\n",
              "      <td>4449.46200</td>\n",
              "      <td>False</td>\n",
              "      <td>False</td>\n",
              "      <td>False</td>\n",
              "      <td>1</td>\n",
              "    </tr>\n",
              "    <tr>\n",
              "      <th>3</th>\n",
              "      <td>33.0</td>\n",
              "      <td>22.705</td>\n",
              "      <td>0.0</td>\n",
              "      <td>0</td>\n",
              "      <td>21984.47061</td>\n",
              "      <td>False</td>\n",
              "      <td>True</td>\n",
              "      <td>False</td>\n",
              "      <td>1</td>\n",
              "    </tr>\n",
              "    <tr>\n",
              "      <th>4</th>\n",
              "      <td>32.0</td>\n",
              "      <td>28.880</td>\n",
              "      <td>0.0</td>\n",
              "      <td>0</td>\n",
              "      <td>3866.85520</td>\n",
              "      <td>False</td>\n",
              "      <td>True</td>\n",
              "      <td>False</td>\n",
              "      <td>1</td>\n",
              "    </tr>\n",
              "  </tbody>\n",
              "</table>\n",
              "</div>\n",
              "    <div class=\"colab-df-buttons\">\n",
              "\n",
              "  <div class=\"colab-df-container\">\n",
              "    <button class=\"colab-df-convert\" onclick=\"convertToInteractive('df-df536c96-6ae8-4146-84b8-83f3f7c49081')\"\n",
              "            title=\"Convert this dataframe to an interactive table.\"\n",
              "            style=\"display:none;\">\n",
              "\n",
              "  <svg xmlns=\"http://www.w3.org/2000/svg\" height=\"24px\" viewBox=\"0 -960 960 960\">\n",
              "    <path d=\"M120-120v-720h720v720H120Zm60-500h600v-160H180v160Zm220 220h160v-160H400v160Zm0 220h160v-160H400v160ZM180-400h160v-160H180v160Zm440 0h160v-160H620v160ZM180-180h160v-160H180v160Zm440 0h160v-160H620v160Z\"/>\n",
              "  </svg>\n",
              "    </button>\n",
              "\n",
              "  <style>\n",
              "    .colab-df-container {\n",
              "      display:flex;\n",
              "      gap: 12px;\n",
              "    }\n",
              "\n",
              "    .colab-df-convert {\n",
              "      background-color: #E8F0FE;\n",
              "      border: none;\n",
              "      border-radius: 50%;\n",
              "      cursor: pointer;\n",
              "      display: none;\n",
              "      fill: #1967D2;\n",
              "      height: 32px;\n",
              "      padding: 0 0 0 0;\n",
              "      width: 32px;\n",
              "    }\n",
              "\n",
              "    .colab-df-convert:hover {\n",
              "      background-color: #E2EBFA;\n",
              "      box-shadow: 0px 1px 2px rgba(60, 64, 67, 0.3), 0px 1px 3px 1px rgba(60, 64, 67, 0.15);\n",
              "      fill: #174EA6;\n",
              "    }\n",
              "\n",
              "    .colab-df-buttons div {\n",
              "      margin-bottom: 4px;\n",
              "    }\n",
              "\n",
              "    [theme=dark] .colab-df-convert {\n",
              "      background-color: #3B4455;\n",
              "      fill: #D2E3FC;\n",
              "    }\n",
              "\n",
              "    [theme=dark] .colab-df-convert:hover {\n",
              "      background-color: #434B5C;\n",
              "      box-shadow: 0px 1px 3px 1px rgba(0, 0, 0, 0.15);\n",
              "      filter: drop-shadow(0px 1px 2px rgba(0, 0, 0, 0.3));\n",
              "      fill: #FFFFFF;\n",
              "    }\n",
              "  </style>\n",
              "\n",
              "    <script>\n",
              "      const buttonEl =\n",
              "        document.querySelector('#df-df536c96-6ae8-4146-84b8-83f3f7c49081 button.colab-df-convert');\n",
              "      buttonEl.style.display =\n",
              "        google.colab.kernel.accessAllowed ? 'block' : 'none';\n",
              "\n",
              "      async function convertToInteractive(key) {\n",
              "        const element = document.querySelector('#df-df536c96-6ae8-4146-84b8-83f3f7c49081');\n",
              "        const dataTable =\n",
              "          await google.colab.kernel.invokeFunction('convertToInteractive',\n",
              "                                                    [key], {});\n",
              "        if (!dataTable) return;\n",
              "\n",
              "        const docLinkHtml = 'Like what you see? Visit the ' +\n",
              "          '<a target=\"_blank\" href=https://colab.research.google.com/notebooks/data_table.ipynb>data table notebook</a>'\n",
              "          + ' to learn more about interactive tables.';\n",
              "        element.innerHTML = '';\n",
              "        dataTable['output_type'] = 'display_data';\n",
              "        await google.colab.output.renderOutput(dataTable, element);\n",
              "        const docLink = document.createElement('div');\n",
              "        docLink.innerHTML = docLinkHtml;\n",
              "        element.appendChild(docLink);\n",
              "      }\n",
              "    </script>\n",
              "  </div>\n",
              "\n",
              "\n",
              "<div id=\"df-04c4c444-0d1d-44f2-9f75-1cad7502e758\">\n",
              "  <button class=\"colab-df-quickchart\" onclick=\"quickchart('df-04c4c444-0d1d-44f2-9f75-1cad7502e758')\"\n",
              "            title=\"Suggest charts\"\n",
              "            style=\"display:none;\">\n",
              "\n",
              "<svg xmlns=\"http://www.w3.org/2000/svg\" height=\"24px\"viewBox=\"0 0 24 24\"\n",
              "     width=\"24px\">\n",
              "    <g>\n",
              "        <path d=\"M19 3H5c-1.1 0-2 .9-2 2v14c0 1.1.9 2 2 2h14c1.1 0 2-.9 2-2V5c0-1.1-.9-2-2-2zM9 17H7v-7h2v7zm4 0h-2V7h2v10zm4 0h-2v-4h2v4z\"/>\n",
              "    </g>\n",
              "</svg>\n",
              "  </button>\n",
              "\n",
              "<style>\n",
              "  .colab-df-quickchart {\n",
              "      --bg-color: #E8F0FE;\n",
              "      --fill-color: #1967D2;\n",
              "      --hover-bg-color: #E2EBFA;\n",
              "      --hover-fill-color: #174EA6;\n",
              "      --disabled-fill-color: #AAA;\n",
              "      --disabled-bg-color: #DDD;\n",
              "  }\n",
              "\n",
              "  [theme=dark] .colab-df-quickchart {\n",
              "      --bg-color: #3B4455;\n",
              "      --fill-color: #D2E3FC;\n",
              "      --hover-bg-color: #434B5C;\n",
              "      --hover-fill-color: #FFFFFF;\n",
              "      --disabled-bg-color: #3B4455;\n",
              "      --disabled-fill-color: #666;\n",
              "  }\n",
              "\n",
              "  .colab-df-quickchart {\n",
              "    background-color: var(--bg-color);\n",
              "    border: none;\n",
              "    border-radius: 50%;\n",
              "    cursor: pointer;\n",
              "    display: none;\n",
              "    fill: var(--fill-color);\n",
              "    height: 32px;\n",
              "    padding: 0;\n",
              "    width: 32px;\n",
              "  }\n",
              "\n",
              "  .colab-df-quickchart:hover {\n",
              "    background-color: var(--hover-bg-color);\n",
              "    box-shadow: 0 1px 2px rgba(60, 64, 67, 0.3), 0 1px 3px 1px rgba(60, 64, 67, 0.15);\n",
              "    fill: var(--button-hover-fill-color);\n",
              "  }\n",
              "\n",
              "  .colab-df-quickchart-complete:disabled,\n",
              "  .colab-df-quickchart-complete:disabled:hover {\n",
              "    background-color: var(--disabled-bg-color);\n",
              "    fill: var(--disabled-fill-color);\n",
              "    box-shadow: none;\n",
              "  }\n",
              "\n",
              "  .colab-df-spinner {\n",
              "    border: 2px solid var(--fill-color);\n",
              "    border-color: transparent;\n",
              "    border-bottom-color: var(--fill-color);\n",
              "    animation:\n",
              "      spin 1s steps(1) infinite;\n",
              "  }\n",
              "\n",
              "  @keyframes spin {\n",
              "    0% {\n",
              "      border-color: transparent;\n",
              "      border-bottom-color: var(--fill-color);\n",
              "      border-left-color: var(--fill-color);\n",
              "    }\n",
              "    20% {\n",
              "      border-color: transparent;\n",
              "      border-left-color: var(--fill-color);\n",
              "      border-top-color: var(--fill-color);\n",
              "    }\n",
              "    30% {\n",
              "      border-color: transparent;\n",
              "      border-left-color: var(--fill-color);\n",
              "      border-top-color: var(--fill-color);\n",
              "      border-right-color: var(--fill-color);\n",
              "    }\n",
              "    40% {\n",
              "      border-color: transparent;\n",
              "      border-right-color: var(--fill-color);\n",
              "      border-top-color: var(--fill-color);\n",
              "    }\n",
              "    60% {\n",
              "      border-color: transparent;\n",
              "      border-right-color: var(--fill-color);\n",
              "    }\n",
              "    80% {\n",
              "      border-color: transparent;\n",
              "      border-right-color: var(--fill-color);\n",
              "      border-bottom-color: var(--fill-color);\n",
              "    }\n",
              "    90% {\n",
              "      border-color: transparent;\n",
              "      border-bottom-color: var(--fill-color);\n",
              "    }\n",
              "  }\n",
              "</style>\n",
              "\n",
              "  <script>\n",
              "    async function quickchart(key) {\n",
              "      const quickchartButtonEl =\n",
              "        document.querySelector('#' + key + ' button');\n",
              "      quickchartButtonEl.disabled = true;  // To prevent multiple clicks.\n",
              "      quickchartButtonEl.classList.add('colab-df-spinner');\n",
              "      try {\n",
              "        const charts = await google.colab.kernel.invokeFunction(\n",
              "            'suggestCharts', [key], {});\n",
              "      } catch (error) {\n",
              "        console.error('Error during call to suggestCharts:', error);\n",
              "      }\n",
              "      quickchartButtonEl.classList.remove('colab-df-spinner');\n",
              "      quickchartButtonEl.classList.add('colab-df-quickchart-complete');\n",
              "    }\n",
              "    (() => {\n",
              "      let quickchartButtonEl =\n",
              "        document.querySelector('#df-04c4c444-0d1d-44f2-9f75-1cad7502e758 button');\n",
              "      quickchartButtonEl.style.display =\n",
              "        google.colab.kernel.accessAllowed ? 'block' : 'none';\n",
              "    })();\n",
              "  </script>\n",
              "</div>\n",
              "\n",
              "    </div>\n",
              "  </div>\n"
            ],
            "application/vnd.google.colaboratory.intrinsic+json": {
              "type": "dataframe",
              "variable_name": "df_new",
              "summary": "{\n  \"name\": \"df_new\",\n  \"rows\": 1207,\n  \"fields\": [\n    {\n      \"column\": \"age\",\n      \"properties\": {\n        \"dtype\": \"number\",\n        \"std\": 14.075268782261833,\n        \"min\": 18.0,\n        \"max\": 64.0,\n        \"num_unique_values\": 47,\n        \"samples\": [\n          58.0,\n          38.0,\n          40.0\n        ],\n        \"semantic_type\": \"\",\n        \"description\": \"\"\n      }\n    },\n    {\n      \"column\": \"bmi\",\n      \"properties\": {\n        \"dtype\": \"number\",\n        \"std\": 6.120030902804345,\n        \"min\": 15.96,\n        \"max\": 53.13,\n        \"num_unique_values\": 528,\n        \"samples\": [\n          24.035,\n          19.475,\n          33.44\n        ],\n        \"semantic_type\": \"\",\n        \"description\": \"\"\n      }\n    },\n    {\n      \"column\": \"children\",\n      \"properties\": {\n        \"dtype\": \"number\",\n        \"std\": 1.2032774439101246,\n        \"min\": 0.0,\n        \"max\": 5.0,\n        \"num_unique_values\": 6,\n        \"samples\": [\n          0.0,\n          1.0,\n          5.0\n        ],\n        \"semantic_type\": \"\",\n        \"description\": \"\"\n      }\n    },\n    {\n      \"column\": \"smoker\",\n      \"properties\": {\n        \"dtype\": \"number\",\n        \"std\": 0,\n        \"min\": 0,\n        \"max\": 1,\n        \"num_unique_values\": 2,\n        \"samples\": [\n          0,\n          1\n        ],\n        \"semantic_type\": \"\",\n        \"description\": \"\"\n      }\n    },\n    {\n      \"column\": \"charges\",\n      \"properties\": {\n        \"dtype\": \"number\",\n        \"std\": 12136.05742536186,\n        \"min\": 1121.8739,\n        \"max\": 63770.42801,\n        \"num_unique_values\": 1206,\n        \"samples\": [\n          2404.7338,\n          14256.1928\n        ],\n        \"semantic_type\": \"\",\n        \"description\": \"\"\n      }\n    },\n    {\n      \"column\": \"region_northeast\",\n      \"properties\": {\n        \"dtype\": \"boolean\",\n        \"num_unique_values\": 2,\n        \"samples\": [\n          true,\n          false\n        ],\n        \"semantic_type\": \"\",\n        \"description\": \"\"\n      }\n    },\n    {\n      \"column\": \"region_northwest\",\n      \"properties\": {\n        \"dtype\": \"boolean\",\n        \"num_unique_values\": 2,\n        \"samples\": [\n          true,\n          false\n        ],\n        \"semantic_type\": \"\",\n        \"description\": \"\"\n      }\n    },\n    {\n      \"column\": \"region_southwest\",\n      \"properties\": {\n        \"dtype\": \"boolean\",\n        \"num_unique_values\": 2,\n        \"samples\": [\n          false,\n          true\n        ],\n        \"semantic_type\": \"\",\n        \"description\": \"\"\n      }\n    },\n    {\n      \"column\": \"is_male\",\n      \"properties\": {\n        \"dtype\": \"number\",\n        \"std\": 0,\n        \"min\": 0,\n        \"max\": 1,\n        \"num_unique_values\": 2,\n        \"samples\": [\n          1,\n          0\n        ],\n        \"semantic_type\": \"\",\n        \"description\": \"\"\n      }\n    }\n  ]\n}"
            }
          },
          "metadata": {},
          "execution_count": 48
        }
      ]
    },
    {
      "cell_type": "code",
      "source": [
        "# Define the dependent variable (y) and independent variables (X)\n",
        "y = df_new['charges']  # Assuming 'charges' is the column to predict\n",
        "X = df_new.drop(columns=['charges'])  # All other columns as features\n",
        "\n",
        "# Check data types of the independent variables (X)\n",
        "print(X.dtypes)\n",
        "\n",
        "# Check data type of the dependent variable (y)\n",
        "print(y.dtypes)\n"
      ],
      "metadata": {
        "colab": {
          "base_uri": "https://localhost:8080/"
        },
        "id": "gCZsjWNblBrH",
        "outputId": "099ab56c-bc6a-40bf-c76d-ffb3d93eca43"
      },
      "execution_count": null,
      "outputs": [
        {
          "output_type": "stream",
          "name": "stdout",
          "text": [
            "age                 float64\n",
            "bmi                 float64\n",
            "children            float64\n",
            "smoker                int64\n",
            "region_northeast       bool\n",
            "region_northwest       bool\n",
            "region_southwest       bool\n",
            "is_male               int64\n",
            "dtype: object\n",
            "float64\n"
          ]
        }
      ]
    },
    {
      "cell_type": "code",
      "source": [
        "# Convert charges to numeric if it's not already\n",
        "df_new['charges'] = pd.to_numeric(df_new['charges'], errors='coerce')\n",
        "\n",
        "# Ensure that 'smoker' is numerical (it should already be, but just in case)\n",
        "df_new['smoker'] = df_new['smoker'].astype(int)\n",
        "\n",
        "# Convert boolean columns to integer (0 and 1)\n",
        "df_new['region_northwest'] = df_new['region_northwest'].astype(int)\n",
        "df_new['region_southwest'] = df_new['region_southwest'].astype(int)\n",
        "df_new['region_northeast'] = df_new['region_northeast'].astype(int)\n",
        "\n",
        "# Re-check data types to confirm the changes\n",
        "print(df_new.dtypes)\n",
        "\n"
      ],
      "metadata": {
        "colab": {
          "base_uri": "https://localhost:8080/"
        },
        "id": "LGWpcyLOlFf_",
        "outputId": "a08ae217-6e12-4d40-d7b0-b1a43c51cdba"
      },
      "execution_count": null,
      "outputs": [
        {
          "output_type": "stream",
          "name": "stdout",
          "text": [
            "age                 float64\n",
            "bmi                 float64\n",
            "children            float64\n",
            "smoker                int64\n",
            "charges             float64\n",
            "region_northeast      int64\n",
            "region_northwest      int64\n",
            "region_southwest      int64\n",
            "is_male               int64\n",
            "dtype: object\n"
          ]
        }
      ]
    },
    {
      "cell_type": "code",
      "source": [
        "import statsmodels.api as sm\n",
        "import matplotlib.pyplot as plt\n",
        "import seaborn as sns\n",
        "from statsmodels.stats.outliers_influence import variance_inflation_factor\n",
        "from statsmodels.stats.diagnostic import het_breuschpagan\n",
        "from scipy import stats\n",
        "\n",
        "# Define independent variables (predictors) and dependent variable (charges)\n",
        "X = df_new[['age', 'bmi', 'children', 'smoker', 'region_northwest', 'region_southwest', 'region_northeast', 'is_male']]\n",
        "y = df_new['charges']\n",
        "\n",
        "# Add constant (intercept) to the independent variables\n",
        "X = sm.add_constant(X)\n",
        "\n",
        "# Fit the OLS regression model\n",
        "model = sm.OLS(y, X).fit()\n",
        "\n",
        "# Print the model summary\n",
        "print(model.summary())\n"
      ],
      "metadata": {
        "colab": {
          "base_uri": "https://localhost:8080/"
        },
        "id": "cMBs4etGlw2S",
        "outputId": "8cd0fe0d-9c13-4b73-f050-00aa1dd42516"
      },
      "execution_count": null,
      "outputs": [
        {
          "output_type": "stream",
          "name": "stdout",
          "text": [
            "                            OLS Regression Results                            \n",
            "==============================================================================\n",
            "Dep. Variable:                charges   R-squared:                       0.749\n",
            "Model:                            OLS   Adj. R-squared:                  0.747\n",
            "Method:                 Least Squares   F-statistic:                     446.9\n",
            "Date:                Tue, 08 Oct 2024   Prob (F-statistic):               0.00\n",
            "Time:                        10:08:40   Log-Likelihood:                -12228.\n",
            "No. Observations:                1207   AIC:                         2.447e+04\n",
            "Df Residuals:                    1198   BIC:                         2.452e+04\n",
            "Df Model:                           8                                         \n",
            "Covariance Type:            nonrobust                                         \n",
            "====================================================================================\n",
            "                       coef    std err          t      P>|t|      [0.025      0.975]\n",
            "------------------------------------------------------------------------------------\n",
            "const            -1.241e+04   1133.311    -10.946      0.000   -1.46e+04   -1.02e+04\n",
            "age                258.9877     12.608     20.541      0.000     234.251     283.724\n",
            "bmi                325.7469     30.110     10.819      0.000     266.672     384.821\n",
            "children           446.5732    146.345      3.052      0.002     159.452     733.695\n",
            "smoker            2.394e+04    437.133     54.769      0.000    2.31e+04    2.48e+04\n",
            "region_northwest   551.6682    507.981      1.086      0.278    -444.964    1548.300\n",
            "region_southwest   -21.3193    498.549     -0.043      0.966    -999.446     956.807\n",
            "region_northeast   822.9991    507.884      1.620      0.105    -173.442    1819.440\n",
            "is_male           -262.5972    352.464     -0.745      0.456    -954.113     428.919\n",
            "==============================================================================\n",
            "Omnibus:                      273.184   Durbin-Watson:                   2.109\n",
            "Prob(Omnibus):                  0.000   Jarque-Bera (JB):              665.449\n",
            "Skew:                           1.209   Prob(JB):                    3.16e-145\n",
            "Kurtosis:                       5.718   Cond. No.                         351.\n",
            "==============================================================================\n",
            "\n",
            "Notes:\n",
            "[1] Standard Errors assume that the covariance matrix of the errors is correctly specified.\n"
          ]
        }
      ]
    },
    {
      "cell_type": "markdown",
      "source": [
        "1. Coefficients (coef)\n",
        "These represent the estimated effect of each independent variable on the dependent variable (insurance charges). In a multiple regression, each coefficient shows how much the dependent variable is expected to change, on average, with a one-unit change in the predictor, holding all other predictors constant.\n",
        "\n",
        "const: This is the intercept of the regression equation. It represents the average value of the dependent variable (charges) when all the independent variables are 0. This value gives the baseline level of charges when all predictors are at their reference values (e.g., a person with age 0, BMI 0, no children, non-smoker, etc.).\n",
        "\n",
        "age: This coefficient shows the expected change in insurance charges for a one-year increase in age, holding all other variables constant.\n",
        "\n",
        "bmi: This coefficient shows the expected change in insurance charges for a one-unit increase in BMI, holding all other variables constant. A positive coefficient would mean that as BMI increases, the insurance charges increase.\n",
        "\n",
        "children: This coefficient represents the change in insurance charges with each additional child.\n",
        "\n",
        "smoker: This is a binary variable (1 for smokers, 0 for non-smokers). The coefficient for smoker shows how much more (or less) a smoker is expected to pay in insurance charges compared to a non-smoker, holding all other variables constant.\n",
        "\n",
        "region_northwest, region_southwest, region_northeast: These dummy variables represent the effect of living in these regions on insurance charges, compared to the reference region (likely southeast, which was dropped). A positive coefficient would indicate that living in a specific region increases charges, while a negative coefficient would indicate a decrease.\n",
        "\n",
        "is_male: This variable represents gender, where 1 = male, and 0 = female. The coefficient for is_male shows how much more (or less) males are expected to pay compared to females, holding all other variables constant.\n",
        "\n",
        "2. P-values\n",
        "The p-value for each coefficient tests the null hypothesis that the coefficient is equal to zero (i.e., no effect).\n",
        "\n",
        "A low p-value (typically < 0.05) indicates that you can reject the null hypothesis, suggesting that the predictor is statistically significant.\n",
        "A high p-value (> 0.05) suggests that the variable may not have a significant effect on insurance charges.\n",
        "3. R-squared and Adjusted R-squared\n",
        "R-squared: This value explains how much of the variance in the dependent variable (charges) is explained by the independent variables. The closer to 1, the better the model fits the data.\n",
        "Adjusted R-squared: This adjusts the R-squared value for the number of predictors. It's often a more reliable indicator, especially when adding more variables to the model.\n",
        "4. F-statistic and Prob (F-statistic)\n",
        "The F-statistic tests whether at least one of the regression coefficients is different from zero. A significant p-value for the F-statistic (typically < 0.05) indicates that the model as a whole is statistically significant.\n"
      ],
      "metadata": {
        "id": "SfYCwoUqi03p"
      }
    },
    {
      "cell_type": "code",
      "source": [],
      "metadata": {
        "id": "IClMOssDinEd"
      },
      "execution_count": null,
      "outputs": []
    },
    {
      "cell_type": "markdown",
      "source": [
        "**Check for Multicollinearity**\n",
        "To check whether any of the independent variables are highly correlated with each other (which can lead to unreliable coefficient estimates), calculate the Variance Inflation Factor (VIF).\n",
        "\n",
        "*A VIF value greater than 10 typically indicates high multicollinearity, which can be problematic*"
      ],
      "metadata": {
        "id": "ypaqPqWln6Ip"
      }
    },
    {
      "cell_type": "code",
      "source": [
        "# Calculate VIF for each variable\n",
        "vif_data = pd.DataFrame()\n",
        "vif_data[\"feature\"] = X.columns\n",
        "vif_data[\"VIF\"] = [variance_inflation_factor(X.values, i) for i in range(X.shape[1])]\n",
        "\n",
        "print(vif_data)\n"
      ],
      "metadata": {
        "colab": {
          "base_uri": "https://localhost:8080/"
        },
        "id": "CPckY_dJnWbJ",
        "outputId": "afb9add1-7ef7-4018-cbbb-d586d47558c5"
      },
      "execution_count": null,
      "outputs": [
        {
          "output_type": "stream",
          "name": "stdout",
          "text": [
            "            feature        VIF\n",
            "0             const  41.656600\n",
            "1               age   1.020578\n",
            "2               bmi   1.100418\n",
            "3          children   1.004879\n",
            "4            smoker   1.011738\n",
            "5  region_northwest   1.542001\n",
            "6  region_southwest   1.495493\n",
            "7  region_northeast   1.544957\n",
            "8           is_male   1.007092\n"
          ]
        }
      ]
    },
    {
      "cell_type": "markdown",
      "source": [
        "**Test for Heteroscedasticity**\n",
        "You can use the Breusch-Pagan test to check for heteroscedasticity (non-constant variance of residuals), which is an assumption of linear regression.\n",
        "\n",
        "*If the p-value is significant (typically < 0.05), it indicates that heteroscedasticity is present, and you may need to use a robust regression method.*"
      ],
      "metadata": {
        "id": "6V2YIVa0n9w7"
      }
    },
    {
      "cell_type": "code",
      "source": [
        "# Perform Breusch-Pagan test\n",
        "from statsmodels.stats.diagnostic import het_breuschpagan\n",
        "\n",
        "# Fit the model and get residuals and independent variables\n",
        "residuals = model.resid\n",
        "_, pval, __, f_pval = het_breuschpagan(residuals, X)\n",
        "\n",
        "print(f\"Breusch-Pagan p-value: {pval}\")\n"
      ],
      "metadata": {
        "colab": {
          "base_uri": "https://localhost:8080/"
        },
        "id": "XJZkj-AYnuyP",
        "outputId": "f96fbc87-1680-4c8d-daa3-a6fc4196c8fc"
      },
      "execution_count": null,
      "outputs": [
        {
          "output_type": "stream",
          "name": "stdout",
          "text": [
            "Breusch-Pagan p-value: 2.0661987378260818e-21\n"
          ]
        }
      ]
    },
    {
      "cell_type": "code",
      "source": [],
      "metadata": {
        "id": "kiFbHhErpDJk"
      },
      "execution_count": null,
      "outputs": []
    },
    {
      "cell_type": "markdown",
      "source": [
        "**Plot Residuals**\n",
        "Visualizing residuals helps to check for normality and homoscedasticity (constant variance of residuals)."
      ],
      "metadata": {
        "id": "BH0C9NwSpD6u"
      }
    },
    {
      "cell_type": "code",
      "source": [
        "# Plot residuals vs. fitted values\n",
        "sns.residplot(x=model.fittedvalues, y=model.resid, lowess=True, line_kws={'color': 'red'})\n",
        "plt.xlabel('Fitted Values')\n",
        "plt.ylabel('Residuals')\n",
        "plt.title('Residuals vs. Fitted Values')\n",
        "plt.show()\n",
        "\n",
        "# Plot distribution of residuals\n",
        "sns.histplot(model.resid, kde=True)\n",
        "plt.title('Distribution of Residuals')\n",
        "plt.show()\n"
      ],
      "metadata": {
        "colab": {
          "base_uri": "https://localhost:8080/",
          "height": 907
        },
        "id": "mD0OFsnBpLam",
        "outputId": "81fa24f8-2484-4018-a757-240c62540ec5"
      },
      "execution_count": null,
      "outputs": [
        {
          "output_type": "display_data",
          "data": {
            "text/plain": [
              "<Figure size 640x480 with 1 Axes>"
            ],
            "image/png": "[encoded data removed]"
          },
          "metadata": {}
        },
        {
          "output_type": "display_data",
          "data": {
            "text/plain": [
              "<Figure size 640x480 with 1 Axes>"
            ],
            "image/png": "[encoded data removed]"
          },
          "metadata": {}
        }
      ]
    },
    {
      "cell_type": "code",
      "source": [],
      "metadata": {
        "id": "STo_xovOpThI"
      },
      "execution_count": null,
      "outputs": []
    },
    {
      "cell_type": "markdown",
      "source": [
        "**Steps for Hypothesis Testing:**\n",
        "Null Hypothesis (H₀):\n",
        "The coefficient of the predictor variable equals zero (no effect on the dependent variable).\n",
        "\n",
        "Alternative Hypothesis (H₁):\n",
        "The coefficient of the predictor variable is not zero (it has an effect on the dependent variable).\n",
        "\n",
        "Significance Level (α): Typically set to 0.05.\n",
        "If the p-value < 0.05, you reject the null hypothesis and conclude the predictor has a statistically significant effect.\n",
        "If the p-value > 0.05, you fail to reject the null hypothesis and conclude the predictor may not be a strong predictor."
      ],
      "metadata": {
        "id": "jOALLKMrlu1x"
      }
    },
    {
      "cell_type": "code",
      "source": [
        "import pandas as pd\n",
        "import statsmodels.api as sm\n",
        "\n",
        "# Assuming df_new is the cleaned dataframe with encoded variables\n",
        "X = df_new[['age', 'bmi', 'children', 'smoker', 'region_northwest', 'region_southwest', 'region_northeast', 'is_male']]\n",
        "y = df_new['charges']\n",
        "\n",
        "# Add constant to predictor variables (intercept)\n",
        "X = sm.add_constant(X)\n",
        "\n",
        "# Fit OLS regression model\n",
        "model = sm.OLS(y, X).fit()\n",
        "\n",
        "# Print the summary to view p-values and t-tests\n",
        "print(model.summary())\n"
      ],
      "metadata": {
        "colab": {
          "base_uri": "https://localhost:8080/"
        },
        "id": "7XlIiZ0IkGEv",
        "outputId": "593a2918-3438-42f2-fe15-fdbe7061b4f9"
      },
      "execution_count": null,
      "outputs": [
        {
          "output_type": "stream",
          "name": "stdout",
          "text": [
            "                            OLS Regression Results                            \n",
            "==============================================================================\n",
            "Dep. Variable:                charges   R-squared:                       0.749\n",
            "Model:                            OLS   Adj. R-squared:                  0.747\n",
            "Method:                 Least Squares   F-statistic:                     446.9\n",
            "Date:                Tue, 08 Oct 2024   Prob (F-statistic):               0.00\n",
            "Time:                        14:37:41   Log-Likelihood:                -12228.\n",
            "No. Observations:                1207   AIC:                         2.447e+04\n",
            "Df Residuals:                    1198   BIC:                         2.452e+04\n",
            "Df Model:                           8                                         \n",
            "Covariance Type:            nonrobust                                         \n",
            "====================================================================================\n",
            "                       coef    std err          t      P>|t|      [0.025      0.975]\n",
            "------------------------------------------------------------------------------------\n",
            "const            -1.241e+04   1133.311    -10.946      0.000   -1.46e+04   -1.02e+04\n",
            "age                258.9877     12.608     20.541      0.000     234.251     283.724\n",
            "bmi                325.7469     30.110     10.819      0.000     266.672     384.821\n",
            "children           446.5732    146.345      3.052      0.002     159.452     733.695\n",
            "smoker            2.394e+04    437.133     54.769      0.000    2.31e+04    2.48e+04\n",
            "region_northwest   551.6682    507.981      1.086      0.278    -444.964    1548.300\n",
            "region_southwest   -21.3193    498.549     -0.043      0.966    -999.446     956.807\n",
            "region_northeast   822.9991    507.884      1.620      0.105    -173.442    1819.440\n",
            "is_male           -262.5972    352.464     -0.745      0.456    -954.113     428.919\n",
            "==============================================================================\n",
            "Omnibus:                      273.184   Durbin-Watson:                   2.109\n",
            "Prob(Omnibus):                  0.000   Jarque-Bera (JB):              665.449\n",
            "Skew:                           1.209   Prob(JB):                    3.16e-145\n",
            "Kurtosis:                       5.718   Cond. No.                         351.\n",
            "==============================================================================\n",
            "\n",
            "Notes:\n",
            "[1] Standard Errors assume that the covariance matrix of the errors is correctly specified.\n"
          ]
        }
      ]
    },
    {
      "cell_type": "markdown",
      "source": [
        "**OLS Regression Results Interpretation**\n",
        "\n",
        "**Model Fit**\n",
        "\n",
        "R-squared: 0.749\n",
        "\n",
        "This indicates that about 74.9% of the variation in the dependent variable (charges) is explained by the independent variables in the model. This suggests the model fits the data quite well.\n",
        "\n",
        "Adjusted R-squared: 0.747\n",
        "\n",
        "This is slightly lower than the R-squared, accounting for the number of predictors in the model. It suggests a good fit without overfitting, as there is only a slight difference between R-squared and Adjusted R-squared.\n",
        "\n",
        "F-statistic: 446.9, Prob (F-statistic): 0.00\n",
        "\n",
        "The F-statistic tests the overall significance of the model. Since the p-value for the F-statistic is 0.00, the model is statistically significant as a whole, meaning the predictors, taken together, significantly explain the variance in insurance charges."
      ],
      "metadata": {
        "id": "SP8JOLXwo4zq"
      }
    },
    {
      "cell_type": "code",
      "source": [],
      "metadata": {
        "id": "-q7TprZomFBv"
      },
      "execution_count": null,
      "outputs": []
    },
    {
      "cell_type": "markdown",
      "source": [
        "***Significant Variables (p < 0.05):***\n",
        "\n",
        "Age:\n",
        "Coefficient: 258.99, p-value: 0.000\n",
        "\n",
        "Interpretation: For every one year increase in age, the insurance charges increase by approximately 259 units on average, holding all other factors constant. This variable is highly significant (p < 0.05).\n",
        "\n",
        "BMI:\n",
        "Coefficient: 325.75, p-value: 0.000\n",
        "\n",
        "Interpretation: For each one-unit increase in BMI, the insurance charges increase by approximately 326 units on average, holding all else constant. This is also a highly significant predictor of insurance charges.\n",
        "\n",
        "Children:\n",
        "Coefficient: 446.57, p-value: 0.002\n",
        "\n",
        "Interpretation: For each additional child, the insurance charges increase by 447 units on average, holding other factors constant. This variable is statistically significant as well.\n",
        "\n",
        "Smoker:\n",
        "Coefficient: 23,940.0, p-value: 0.000\n",
        "\n",
        "Interpretation: If the individual is a smoker, insurance charges increase by approximately 23,940 units compared to non-smokers, holding all else constant. This is a highly significant and large effect, suggesting smokers pay much higher premiums than non-smokers."
      ],
      "metadata": {
        "id": "BwkrCmIipWhn"
      }
    },
    {
      "cell_type": "markdown",
      "source": [
        "**Non-Significant Variables (p > 0.05):**\n",
        "\n",
        "Region_Northwest:\n",
        "Coefficient: 551.67, p-value: 0.278\n",
        "\n",
        "Interpretation: Living in the Northwest region does not have a statistically significant effect on insurance charges, as the p-value is greater than 0.05.\n",
        "\n",
        "Region_Southwest:\n",
        "Coefficient: -21.32, p-value: 0.966\n",
        "\n",
        "Interpretation: Living in the Southwest region has a near-zero and non-significant effect on insurance charges.\n",
        "\n",
        "Region_Northeast:\n",
        "Coefficient: 823.00, p-value: 0.105\n",
        "\n",
        "Interpretation: Although living in the Northeast has a positive effect on insurance charges, it is not statistically significant (p > 0.05).\n",
        "\n",
        "Is_Male:\n",
        "Coefficient: -262.60, p-value: 0.456\n",
        "\n",
        "Interpretation: The gender of the individual does not have a statistically significant effect on insurance charges. The negative coefficient suggests males might pay lower charges, but this effect is not significant."
      ],
      "metadata": {
        "id": "zeRoUQ9zpxS6"
      }
    },
    {
      "cell_type": "markdown",
      "source": [
        "**Predict Insurance Charges for New Data**\n",
        "\n",
        "Once you're satisfied with the model diagnostics, you can use it to predict insurance charges for new or hypothetical data:"
      ],
      "metadata": {
        "id": "zavJ3b4wcibl"
      }
    },
    {
      "cell_type": "code",
      "source": [
        "import statsmodels.api as sm\n",
        "\n",
        "# Define the dependent variable (y) and independent variables (X)\n",
        "y = df_new['charges']  # Assuming 'charges' is the column to predict\n",
        "X = df_new.drop(columns=['charges'])  # All other columns as features\n",
        "\n",
        "# Add a constant (intercept) term to X\n",
        "X = sm.add_constant(X)\n",
        "\n",
        "# Fit the model using Ordinary Least Squares (OLS)\n",
        "model = sm.OLS(y, X).fit()\n",
        "\n",
        "# Check the summary of the model\n",
        "print(model.summary())\n"
      ],
      "metadata": {
        "colab": {
          "base_uri": "https://localhost:8080/"
        },
        "id": "onapW9fTcgZb",
        "outputId": "131e58c5-fac2-48c3-c4da-3f7bd987a23a"
      },
      "execution_count": null,
      "outputs": [
        {
          "output_type": "stream",
          "name": "stdout",
          "text": [
            "                            OLS Regression Results                            \n",
            "==============================================================================\n",
            "Dep. Variable:                charges   R-squared:                       0.749\n",
            "Model:                            OLS   Adj. R-squared:                  0.747\n",
            "Method:                 Least Squares   F-statistic:                     446.9\n",
            "Date:                Tue, 08 Oct 2024   Prob (F-statistic):               0.00\n",
            "Time:                        19:14:56   Log-Likelihood:                -12228.\n",
            "No. Observations:                1207   AIC:                         2.447e+04\n",
            "Df Residuals:                    1198   BIC:                         2.452e+04\n",
            "Df Model:                           8                                         \n",
            "Covariance Type:            nonrobust                                         \n",
            "====================================================================================\n",
            "                       coef    std err          t      P>|t|      [0.025      0.975]\n",
            "------------------------------------------------------------------------------------\n",
            "const            -1.241e+04   1133.311    -10.946      0.000   -1.46e+04   -1.02e+04\n",
            "age                258.9877     12.608     20.541      0.000     234.251     283.724\n",
            "bmi                325.7469     30.110     10.819      0.000     266.672     384.821\n",
            "children           446.5732    146.345      3.052      0.002     159.452     733.695\n",
            "smoker            2.394e+04    437.133     54.769      0.000    2.31e+04    2.48e+04\n",
            "region_northeast   822.9991    507.884      1.620      0.105    -173.442    1819.440\n",
            "region_northwest   551.6682    507.981      1.086      0.278    -444.964    1548.300\n",
            "region_southwest   -21.3193    498.549     -0.043      0.966    -999.446     956.807\n",
            "is_male           -262.5972    352.464     -0.745      0.456    -954.113     428.919\n",
            "==============================================================================\n",
            "Omnibus:                      273.184   Durbin-Watson:                   2.109\n",
            "Prob(Omnibus):                  0.000   Jarque-Bera (JB):              665.449\n",
            "Skew:                           1.209   Prob(JB):                    3.16e-145\n",
            "Kurtosis:                       5.718   Cond. No.                         351.\n",
            "==============================================================================\n",
            "\n",
            "Notes:\n",
            "[1] Standard Errors assume that the covariance matrix of the errors is correctly specified.\n"
          ]
        }
      ]
    },
    {
      "cell_type": "code",
      "source": [
        "# Example new data (age: 40, bmi: 25, children: 2, smoker: 0, region_northwest: 0, region_southwest: 1, region_northeast: 0, is_male: 1)\n",
        "new_data = pd.DataFrame({'const': [1], 'age': [40], 'bmi': [25], 'children': [2], 'smoker': [0],\n",
        "                         'region_northwest': [0], 'region_southwest': [1], 'region_northeast': [0], 'is_male': [1]})\n",
        "\n",
        "# Predict charges using the trained model\n",
        "predicted_charges = model.predict(new_data)\n",
        "print(predicted_charges)\n"
      ],
      "metadata": {
        "colab": {
          "base_uri": "https://localhost:8080/"
        },
        "id": "Qh2aq8WIjpoQ",
        "outputId": "82242c8d-6cb5-43e5-fbba-ddf528a9e623"
      },
      "execution_count": null,
      "outputs": [
        {
          "output_type": "stream",
          "name": "stdout",
          "text": [
            "0    7280.316127\n",
            "dtype: float64\n"
          ]
        }
      ]
    },
    {
      "cell_type": "markdown",
      "source": [
        "The value 7280.316127 represents the predicted insurance charge for the new data point. This is the result of the model's prediction based on the input features (age, BMI, children, smoker status, region, and gender).\n",
        "Interpretation:\n",
        "For a person with the following characteristics:\n",
        "\n",
        "Age: 40\n",
        "\n",
        "BMI: 25\n",
        "\n",
        "Children: 2\n",
        "\n",
        "Smoker: No (0)\n",
        "\n",
        "Region: Southwest (region_southwest = 1, region_northwest = 0, region_northeast = 0)\n",
        "\n",
        "Gender: Male (is_male = 1)\n",
        "\n",
        "The predicted insurance charge is $7,280.32.\n",
        "\n",
        "This prediction is based on the model you trained using the OLS regression method. It reflects the expected cost of insurance for a person with the provided features, given the patterns in the data you used to train the model."
      ],
      "metadata": {
        "id": "yikWSesCkHrF"
      }
    },
    {
      "cell_type": "code",
      "source": [],
      "metadata": {
        "id": "jYXACF6IOtRR"
      },
      "execution_count": null,
      "outputs": []
    }
  ]
}